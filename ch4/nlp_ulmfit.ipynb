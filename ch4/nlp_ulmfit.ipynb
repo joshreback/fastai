{
 "cells": [
  {
   "cell_type": "markdown",
   "id": "7704f50e-405a-440d-b4fc-ce78af51cd90",
   "metadata": {},
   "source": [
    "The chapter 10 notebook from the book: https://github.com/fastai/fastbook/blob/master/10_nlp.ipynb mentions the following:\n",
    "\n",
    "> We reached 94.3% accuracy, which was state-of-the-art performance just three years ago. By training another model on all the texts read backwards and averaging the predictions of those two models, we can even get to 95.1% accuracy, which was the state of the art introduced by the ULMFiT paper. It was only beaten a few months ago, by fine-tuning a much bigger model and using expensive data augmentation techniques (translating sentences in another language and back, using another model for translation).\n",
    "\n",
    "A good way to consolidate my understanding of [lesson 4](https://course.fast.ai/Lessons/lesson4.html) of the fast.ai course would be to try to replicate this forward + backward LM language model training (the book only covers forward training), averaging the weights, and confirming I get a commensurate accuracy increase."
   ]
  },
  {
   "cell_type": "code",
   "execution_count": 5,
   "id": "fae3aa51-50cf-481e-8514-ce986b4242d4",
   "metadata": {},
   "outputs": [],
   "source": [
    "!pip install -Uqq fastbook\n",
    "import fastbook\n",
    "fastbook.setup_book()"
   ]
  },
  {
   "cell_type": "code",
   "execution_count": 6,
   "id": "5e8b8f0d-3d30-4b29-9aef-760bed9a002b",
   "metadata": {},
   "outputs": [],
   "source": [
    "from fastbook import *\n",
    "from IPython.display import display,HTML"
   ]
  },
  {
   "cell_type": "code",
   "execution_count": 7,
   "id": "2b136f93-fe59-46af-844a-87074fc1450a",
   "metadata": {},
   "outputs": [],
   "source": [
    "import torch\n",
    "torch.cuda.empty_cache()"
   ]
  },
  {
   "cell_type": "markdown",
   "id": "ea514c4e-8363-4a3a-aab1-35221ec0b21d",
   "metadata": {},
   "source": [
    "### Load Data"
   ]
  },
  {
   "cell_type": "code",
   "execution_count": 8,
   "id": "56830568-2ed5-4f46-a2be-17114427bae9",
   "metadata": {},
   "outputs": [],
   "source": [
    "from fastai.text.all import *\n",
    "path = untar_data(URLs.IMDB)"
   ]
  },
  {
   "cell_type": "markdown",
   "id": "3ac96d92-e4d5-4ee1-b0c2-374a2de5ccf1",
   "metadata": {},
   "source": [
    "Note: The IMDB dataset is large (at least relative to the size of my GPU/paperspace instance). I'm not trying to train a \"real\" predictive model here, I just want to get the gist and intuition of the approaches. Thus, I've defined the `get_imdb` method to load a configurable subset of text data (by default 0.01), which can be increased if I get a bigger GPU with more memory."
   ]
  },
  {
   "cell_type": "code",
   "execution_count": 29,
   "id": "f35378a1-b1b1-4f87-ae11-9fc56d27a370",
   "metadata": {},
   "outputs": [],
   "source": [
    "def get_imdb(path, folders, pct):\n",
    "    files = get_text_files(path, folders=folders)\n",
    "    n_files = int(len(files) * pct)\n",
    "    return files[:n_files]\n",
    "\n",
    "pct = 0.1\n",
    "bs = 48\n",
    "seq_len = 60\n",
    "get_items = partial(get_imdb, folders=['train', 'test'], pct=pct)"
   ]
  },
  {
   "cell_type": "code",
   "execution_count": 12,
   "id": "6e217ef9-f6e4-47fd-9aca-2ce1833b42e5",
   "metadata": {},
   "outputs": [
    {
     "name": "stdout",
     "output_type": "stream",
     "text": [
      "xxbos xxmaj acting xxmaj this film is a very well acted film . i will say that the performances are slightly weak at times ; but for the most part , the acting is very good . xxmaj the only actor that blew me away with his performance was xxmaj jude xxmaj law as xxmaj harlen xxmaj maguire . xxmaj\n",
      "journey . \" xxmaj this is a movie that is heaps of fun to watch , xxmaj keanu and xxmaj alex make a great on screen team reprising their characters from \" bill and xxmaj ted 's excellent adventure \" with even more ' style ' then they had in 1st movie . xxmaj it 's not rocket science but\n",
      "xxmaj acting xxmaj this film is a very well acted film . i will say that the performances are slightly weak at times ; but for the most part , the acting is very good . xxmaj the only actor that blew me away with his performance was xxmaj jude xxmaj law as xxmaj harlen xxmaj maguire . xxmaj he\n",
      ". \" xxmaj this is a movie that is heaps of fun to watch , xxmaj keanu and xxmaj alex make a great on screen team reprising their characters from \" bill and xxmaj ted 's excellent adventure \" with even more ' style ' then they had in 1st movie . xxmaj it 's not rocket science but it\n"
     ]
    }
   ],
   "source": [
    "dls_lm = DataBlock(\n",
    "    blocks=TextBlock.from_folder(path, is_lm=True),\n",
    "    get_items=get_items, splitter=RandomSplitter(0.2)\n",
    ").dataloaders(path, path=path, bs=bs, seq_len=seq_len)\n",
    "dls_lm.show_batch(max_n=2)"
   ]
  },
  {
   "cell_type": "markdown",
   "id": "56e253b0-7859-453d-9090-4e9ffc6be5d7",
   "metadata": {},
   "source": [
    "## Finetune the Language Model"
   ]
  },
  {
   "cell_type": "markdown",
   "id": "a7d0502e-e8f6-4c02-af80-d95bd792f406",
   "metadata": {},
   "source": [
    "Finetune the language model on the IMDB data, as in the notebook."
   ]
  },
  {
   "cell_type": "code",
   "execution_count": 13,
   "id": "0e49dfcf-82f2-4707-bf72-f972b34db10c",
   "metadata": {},
   "outputs": [],
   "source": [
    "learn = language_model_learner(\n",
    "    dls_lm, AWD_LSTM, drop_mult=0.5, \n",
    "    metrics=[accuracy, Perplexity()]).to_fp16()"
   ]
  },
  {
   "cell_type": "code",
   "execution_count": 19,
   "id": "ed4c5832-b1be-4936-a38c-e73374862e64",
   "metadata": {},
   "outputs": [
    {
     "data": {
      "text/plain": [
       "423"
      ]
     },
     "execution_count": 19,
     "metadata": {},
     "output_type": "execute_result"
    }
   ],
   "source": [
    "print(len(learn.dls.train))\n",
    "print(len(learn.dls.valid))"
   ]
  },
  {
   "cell_type": "code",
   "execution_count": 16,
   "id": "bcc754a6-7331-475e-a652-e331a092b51d",
   "metadata": {},
   "outputs": [
    {
     "name": "stderr",
     "output_type": "stream",
     "text": [
      "/home/paperspace/miniforge3/envs/ml/lib/python3.10/site-packages/fastai/callback/fp16.py:47: FutureWarning: `torch.cuda.amp.autocast(args...)` is deprecated. Please use `torch.amp.autocast('cuda', args...)` instead.\n",
      "  self.autocast,self.learn.scaler,self.scales = autocast(dtype=dtype),GradScaler(**self.kwargs),L()\n",
      "/home/paperspace/miniforge3/envs/ml/lib/python3.10/site-packages/fastai/callback/fp16.py:47: FutureWarning: `torch.cuda.amp.GradScaler(args...)` is deprecated. Please use `torch.amp.GradScaler('cuda', args...)` instead.\n",
      "  self.autocast,self.learn.scaler,self.scales = autocast(dtype=dtype),GradScaler(**self.kwargs),L()\n"
     ]
    },
    {
     "data": {
      "text/html": [
       "\n",
       "<style>\n",
       "    /* Turns off some styling */\n",
       "    progress {\n",
       "        /* gets rid of default border in Firefox and Opera. */\n",
       "        border: none;\n",
       "        /* Needs to be in here for Safari polyfill so background images work as expected. */\n",
       "        background-size: auto;\n",
       "    }\n",
       "    progress:not([value]), progress:not([value])::-webkit-progress-bar {\n",
       "        background: repeating-linear-gradient(45deg, #7e7e7e, #7e7e7e 10px, #5c5c5c 10px, #5c5c5c 20px);\n",
       "    }\n",
       "    .progress-bar-interrupted, .progress-bar-interrupted::-webkit-progress-bar {\n",
       "        background: #F44336;\n",
       "    }\n",
       "</style>\n"
      ],
      "text/plain": [
       "<IPython.core.display.HTML object>"
      ]
     },
     "metadata": {},
     "output_type": "display_data"
    },
    {
     "data": {
      "text/html": [
       "<table border=\"1\" class=\"dataframe\">\n",
       "  <thead>\n",
       "    <tr style=\"text-align: left;\">\n",
       "      <th>epoch</th>\n",
       "      <th>train_loss</th>\n",
       "      <th>valid_loss</th>\n",
       "      <th>accuracy</th>\n",
       "      <th>perplexity</th>\n",
       "      <th>time</th>\n",
       "    </tr>\n",
       "  </thead>\n",
       "  <tbody>\n",
       "    <tr>\n",
       "      <td>0</td>\n",
       "      <td>4.285134</td>\n",
       "      <td>4.148143</td>\n",
       "      <td>0.285002</td>\n",
       "      <td>63.316330</td>\n",
       "      <td>02:43</td>\n",
       "    </tr>\n",
       "  </tbody>\n",
       "</table>"
      ],
      "text/plain": [
       "<IPython.core.display.HTML object>"
      ]
     },
     "metadata": {},
     "output_type": "display_data"
    },
    {
     "name": "stderr",
     "output_type": "stream",
     "text": [
      "/home/paperspace/miniforge3/envs/ml/lib/python3.10/site-packages/fastai/callback/fp16.py:47: FutureWarning: `torch.cuda.amp.autocast(args...)` is deprecated. Please use `torch.amp.autocast('cuda', args...)` instead.\n",
      "  self.autocast,self.learn.scaler,self.scales = autocast(dtype=dtype),GradScaler(**self.kwargs),L()\n",
      "/home/paperspace/miniforge3/envs/ml/lib/python3.10/site-packages/fastai/callback/fp16.py:47: FutureWarning: `torch.cuda.amp.GradScaler(args...)` is deprecated. Please use `torch.amp.GradScaler('cuda', args...)` instead.\n",
      "  self.autocast,self.learn.scaler,self.scales = autocast(dtype=dtype),GradScaler(**self.kwargs),L()\n"
     ]
    },
    {
     "data": {
      "text/html": [
       "\n",
       "<style>\n",
       "    /* Turns off some styling */\n",
       "    progress {\n",
       "        /* gets rid of default border in Firefox and Opera. */\n",
       "        border: none;\n",
       "        /* Needs to be in here for Safari polyfill so background images work as expected. */\n",
       "        background-size: auto;\n",
       "    }\n",
       "    progress:not([value]), progress:not([value])::-webkit-progress-bar {\n",
       "        background: repeating-linear-gradient(45deg, #7e7e7e, #7e7e7e 10px, #5c5c5c 10px, #5c5c5c 20px);\n",
       "    }\n",
       "    .progress-bar-interrupted, .progress-bar-interrupted::-webkit-progress-bar {\n",
       "        background: #F44336;\n",
       "    }\n",
       "</style>\n"
      ],
      "text/plain": [
       "<IPython.core.display.HTML object>"
      ]
     },
     "metadata": {},
     "output_type": "display_data"
    },
    {
     "data": {
      "text/html": [
       "<table border=\"1\" class=\"dataframe\">\n",
       "  <thead>\n",
       "    <tr style=\"text-align: left;\">\n",
       "      <th>epoch</th>\n",
       "      <th>train_loss</th>\n",
       "      <th>valid_loss</th>\n",
       "      <th>accuracy</th>\n",
       "      <th>perplexity</th>\n",
       "      <th>time</th>\n",
       "    </tr>\n",
       "  </thead>\n",
       "  <tbody>\n",
       "    <tr>\n",
       "      <td>0</td>\n",
       "      <td>3.887031</td>\n",
       "      <td>4.117170</td>\n",
       "      <td>0.288344</td>\n",
       "      <td>61.385296</td>\n",
       "      <td>02:43</td>\n",
       "    </tr>\n",
       "    <tr>\n",
       "      <td>1</td>\n",
       "      <td>3.855094</td>\n",
       "      <td>4.087678</td>\n",
       "      <td>0.290501</td>\n",
       "      <td>59.601364</td>\n",
       "      <td>02:43</td>\n",
       "    </tr>\n",
       "    <tr>\n",
       "      <td>2</td>\n",
       "      <td>3.754683</td>\n",
       "      <td>4.073962</td>\n",
       "      <td>0.291986</td>\n",
       "      <td>58.789436</td>\n",
       "      <td>02:43</td>\n",
       "    </tr>\n",
       "    <tr>\n",
       "      <td>3</td>\n",
       "      <td>3.673376</td>\n",
       "      <td>4.067539</td>\n",
       "      <td>0.292753</td>\n",
       "      <td>58.413017</td>\n",
       "      <td>02:44</td>\n",
       "    </tr>\n",
       "    <tr>\n",
       "      <td>4</td>\n",
       "      <td>3.667172</td>\n",
       "      <td>4.066792</td>\n",
       "      <td>0.292801</td>\n",
       "      <td>58.369442</td>\n",
       "      <td>02:44</td>\n",
       "    </tr>\n",
       "  </tbody>\n",
       "</table>"
      ],
      "text/plain": [
       "<IPython.core.display.HTML object>"
      ]
     },
     "metadata": {},
     "output_type": "display_data"
    }
   ],
   "source": [
    "learn.fit_one_cycle(1, 2e-2)\n",
    "learn.save('1epoch')\n",
    "learn.fit_one_cycle(5, 2e-3)\n",
    "learn.save_encoder('finetuned')"
   ]
  },
  {
   "cell_type": "markdown",
   "id": "b0f1b00a-4407-471b-9828-4411f7cf0a7f",
   "metadata": {},
   "source": [
    "On 1% of the data, accuracy is 23% after 10 epochs (curiously, it seems to degrade over time...this may be a function of data)."
   ]
  },
  {
   "cell_type": "markdown",
   "id": "8ccabcd2-0945-4fe3-a17f-0b2308bb338b",
   "metadata": {},
   "source": [
    "## Finetune the Classifier"
   ]
  },
  {
   "cell_type": "markdown",
   "id": "07c9ae8c-c744-4e5c-9e03-0e52962e3f9d",
   "metadata": {},
   "source": [
    "As in the notebook, now that we've finetuned the language model on IMDB data, we're now going to finetune the finetuned language model on sentiment classification."
   ]
  },
  {
   "cell_type": "markdown",
   "id": "1b41c8bf-5beb-4172-9cd2-a31dd54cfef1",
   "metadata": {},
   "source": [
    "Define a new data loader that is pinned to the previous data loader's vocab."
   ]
  },
  {
   "cell_type": "code",
   "execution_count": 35,
   "id": "ad20922b-e3a9-4515-8732-d7fd91d92221",
   "metadata": {},
   "outputs": [],
   "source": [
    "# Note: need to use more documents since the classification model considers each document as an `item` whereas language modeling considers\n",
    "# each sequence_len of tokens as a batch. \n",
    "get_items_for_clas = partial(get_imdb, folders=['train', 'test'], pct=0.5)\n",
    "# Note: \n",
    "# - here we need the label (since this is not a language modeling task)\n",
    "# - The label is the sentiment (positive or negative)\n",
    "# - And it's obtained from the parent folder \n",
    "dls_clas = DataBlock(\n",
    "    blocks=(TextBlock.from_folder(path, vocab=dls_lm.vocab), CategoryBlock),\n",
    "    get_y = parent_label,  \n",
    "    get_items=get_items_for_clas,\n",
    "    splitter=RandomSplitter(0.2)  # forget about 'train' and 'valid' folders, just split randomly\n",
    ").dataloaders(path, path=path, bs=bs, seq_len=seq_len)"
   ]
  },
  {
   "cell_type": "markdown",
   "id": "f6c67f70-1af8-438f-acc7-33eb45324680",
   "metadata": {},
   "source": [
    "Define the learner by creating a text classifier, then loading the finetuned encoder."
   ]
  },
  {
   "cell_type": "code",
   "execution_count": 36,
   "id": "7b2bc9c4-9205-4ac5-886e-887bc7f177b0",
   "metadata": {},
   "outputs": [],
   "source": [
    "learn = text_classifier_learner(dls_clas, AWD_LSTM, drop_mult=0.5, \n",
    "                                metrics=accuracy).to_fp16()\n",
    "learn = learn.load_encoder('finetuned')"
   ]
  },
  {
   "cell_type": "markdown",
   "id": "e1f3d449-e6b5-421f-9913-3979d9b80a20",
   "metadata": {},
   "source": [
    "And do the training"
   ]
  },
  {
   "cell_type": "code",
   "execution_count": 37,
   "id": "9ef7cf51-08e6-4a43-94a6-c4e22ca8f824",
   "metadata": {},
   "outputs": [
    {
     "name": "stdout",
     "output_type": "stream",
     "text": [
      "105\n",
      "416\n"
     ]
    }
   ],
   "source": [
    "print(len(learn.dls.valid))\n",
    "print(len(learn.dls.train))"
   ]
  },
  {
   "cell_type": "code",
   "execution_count": 38,
   "id": "5ae546fb-3649-48f9-a10a-35a568e4b64b",
   "metadata": {},
   "outputs": [
    {
     "name": "stderr",
     "output_type": "stream",
     "text": [
      "/home/paperspace/miniforge3/envs/ml/lib/python3.10/site-packages/fastai/callback/fp16.py:47: FutureWarning: `torch.cuda.amp.autocast(args...)` is deprecated. Please use `torch.amp.autocast('cuda', args...)` instead.\n",
      "  self.autocast,self.learn.scaler,self.scales = autocast(dtype=dtype),GradScaler(**self.kwargs),L()\n",
      "/home/paperspace/miniforge3/envs/ml/lib/python3.10/site-packages/fastai/callback/fp16.py:47: FutureWarning: `torch.cuda.amp.GradScaler(args...)` is deprecated. Please use `torch.amp.GradScaler('cuda', args...)` instead.\n",
      "  self.autocast,self.learn.scaler,self.scales = autocast(dtype=dtype),GradScaler(**self.kwargs),L()\n"
     ]
    },
    {
     "data": {
      "text/html": [
       "\n",
       "<style>\n",
       "    /* Turns off some styling */\n",
       "    progress {\n",
       "        /* gets rid of default border in Firefox and Opera. */\n",
       "        border: none;\n",
       "        /* Needs to be in here for Safari polyfill so background images work as expected. */\n",
       "        background-size: auto;\n",
       "    }\n",
       "    progress:not([value]), progress:not([value])::-webkit-progress-bar {\n",
       "        background: repeating-linear-gradient(45deg, #7e7e7e, #7e7e7e 10px, #5c5c5c 10px, #5c5c5c 20px);\n",
       "    }\n",
       "    .progress-bar-interrupted, .progress-bar-interrupted::-webkit-progress-bar {\n",
       "        background: #F44336;\n",
       "    }\n",
       "</style>\n"
      ],
      "text/plain": [
       "<IPython.core.display.HTML object>"
      ]
     },
     "metadata": {},
     "output_type": "display_data"
    },
    {
     "data": {
      "text/html": [
       "<table border=\"1\" class=\"dataframe\">\n",
       "  <thead>\n",
       "    <tr style=\"text-align: left;\">\n",
       "      <th>epoch</th>\n",
       "      <th>train_loss</th>\n",
       "      <th>valid_loss</th>\n",
       "      <th>accuracy</th>\n",
       "      <th>time</th>\n",
       "    </tr>\n",
       "  </thead>\n",
       "  <tbody>\n",
       "    <tr>\n",
       "      <td>0</td>\n",
       "      <td>0.412384</td>\n",
       "      <td>0.372616</td>\n",
       "      <td>0.840400</td>\n",
       "      <td>02:20</td>\n",
       "    </tr>\n",
       "  </tbody>\n",
       "</table>"
      ],
      "text/plain": [
       "<IPython.core.display.HTML object>"
      ]
     },
     "metadata": {},
     "output_type": "display_data"
    }
   ],
   "source": [
    "learn.fit_one_cycle(1, 2e-2)"
   ]
  },
  {
   "cell_type": "code",
   "execution_count": 39,
   "id": "9e4fb387-3c89-436e-8fe0-255895055546",
   "metadata": {},
   "outputs": [
    {
     "name": "stderr",
     "output_type": "stream",
     "text": [
      "/home/paperspace/miniforge3/envs/ml/lib/python3.10/site-packages/fastai/callback/fp16.py:47: FutureWarning: `torch.cuda.amp.autocast(args...)` is deprecated. Please use `torch.amp.autocast('cuda', args...)` instead.\n",
      "  self.autocast,self.learn.scaler,self.scales = autocast(dtype=dtype),GradScaler(**self.kwargs),L()\n",
      "/home/paperspace/miniforge3/envs/ml/lib/python3.10/site-packages/fastai/callback/fp16.py:47: FutureWarning: `torch.cuda.amp.GradScaler(args...)` is deprecated. Please use `torch.amp.GradScaler('cuda', args...)` instead.\n",
      "  self.autocast,self.learn.scaler,self.scales = autocast(dtype=dtype),GradScaler(**self.kwargs),L()\n"
     ]
    },
    {
     "data": {
      "text/html": [
       "\n",
       "<style>\n",
       "    /* Turns off some styling */\n",
       "    progress {\n",
       "        /* gets rid of default border in Firefox and Opera. */\n",
       "        border: none;\n",
       "        /* Needs to be in here for Safari polyfill so background images work as expected. */\n",
       "        background-size: auto;\n",
       "    }\n",
       "    progress:not([value]), progress:not([value])::-webkit-progress-bar {\n",
       "        background: repeating-linear-gradient(45deg, #7e7e7e, #7e7e7e 10px, #5c5c5c 10px, #5c5c5c 20px);\n",
       "    }\n",
       "    .progress-bar-interrupted, .progress-bar-interrupted::-webkit-progress-bar {\n",
       "        background: #F44336;\n",
       "    }\n",
       "</style>\n"
      ],
      "text/plain": [
       "<IPython.core.display.HTML object>"
      ]
     },
     "metadata": {},
     "output_type": "display_data"
    },
    {
     "data": {
      "text/html": [
       "<table border=\"1\" class=\"dataframe\">\n",
       "  <thead>\n",
       "    <tr style=\"text-align: left;\">\n",
       "      <th>epoch</th>\n",
       "      <th>train_loss</th>\n",
       "      <th>valid_loss</th>\n",
       "      <th>accuracy</th>\n",
       "      <th>time</th>\n",
       "    </tr>\n",
       "  </thead>\n",
       "  <tbody>\n",
       "    <tr>\n",
       "      <td>0</td>\n",
       "      <td>0.339496</td>\n",
       "      <td>0.267835</td>\n",
       "      <td>0.893400</td>\n",
       "      <td>02:47</td>\n",
       "    </tr>\n",
       "  </tbody>\n",
       "</table>"
      ],
      "text/plain": [
       "<IPython.core.display.HTML object>"
      ]
     },
     "metadata": {},
     "output_type": "display_data"
    }
   ],
   "source": [
    "learn.freeze_to(-2)\n",
    "learn.fit_one_cycle(1, slice(1e-2/(2.6**4),1e-2))"
   ]
  },
  {
   "cell_type": "code",
   "execution_count": 40,
   "id": "a5af4257-c6e5-4cb9-a1b9-72481ed133e2",
   "metadata": {},
   "outputs": [
    {
     "name": "stderr",
     "output_type": "stream",
     "text": [
      "/home/paperspace/miniforge3/envs/ml/lib/python3.10/site-packages/fastai/callback/fp16.py:47: FutureWarning: `torch.cuda.amp.autocast(args...)` is deprecated. Please use `torch.amp.autocast('cuda', args...)` instead.\n",
      "  self.autocast,self.learn.scaler,self.scales = autocast(dtype=dtype),GradScaler(**self.kwargs),L()\n",
      "/home/paperspace/miniforge3/envs/ml/lib/python3.10/site-packages/fastai/callback/fp16.py:47: FutureWarning: `torch.cuda.amp.GradScaler(args...)` is deprecated. Please use `torch.amp.GradScaler('cuda', args...)` instead.\n",
      "  self.autocast,self.learn.scaler,self.scales = autocast(dtype=dtype),GradScaler(**self.kwargs),L()\n"
     ]
    },
    {
     "data": {
      "text/html": [
       "\n",
       "<style>\n",
       "    /* Turns off some styling */\n",
       "    progress {\n",
       "        /* gets rid of default border in Firefox and Opera. */\n",
       "        border: none;\n",
       "        /* Needs to be in here for Safari polyfill so background images work as expected. */\n",
       "        background-size: auto;\n",
       "    }\n",
       "    progress:not([value]), progress:not([value])::-webkit-progress-bar {\n",
       "        background: repeating-linear-gradient(45deg, #7e7e7e, #7e7e7e 10px, #5c5c5c 10px, #5c5c5c 20px);\n",
       "    }\n",
       "    .progress-bar-interrupted, .progress-bar-interrupted::-webkit-progress-bar {\n",
       "        background: #F44336;\n",
       "    }\n",
       "</style>\n"
      ],
      "text/plain": [
       "<IPython.core.display.HTML object>"
      ]
     },
     "metadata": {},
     "output_type": "display_data"
    },
    {
     "data": {
      "text/html": [
       "<table border=\"1\" class=\"dataframe\">\n",
       "  <thead>\n",
       "    <tr style=\"text-align: left;\">\n",
       "      <th>epoch</th>\n",
       "      <th>train_loss</th>\n",
       "      <th>valid_loss</th>\n",
       "      <th>accuracy</th>\n",
       "      <th>time</th>\n",
       "    </tr>\n",
       "  </thead>\n",
       "  <tbody>\n",
       "    <tr>\n",
       "      <td>0</td>\n",
       "      <td>0.247152</td>\n",
       "      <td>0.207702</td>\n",
       "      <td>0.917200</td>\n",
       "      <td>04:15</td>\n",
       "    </tr>\n",
       "  </tbody>\n",
       "</table>"
      ],
      "text/plain": [
       "<IPython.core.display.HTML object>"
      ]
     },
     "metadata": {},
     "output_type": "display_data"
    }
   ],
   "source": [
    "learn.freeze_to(-3)\n",
    "learn.fit_one_cycle(1, slice(5e-3/(2.6**4),5e-3))"
   ]
  },
  {
   "cell_type": "code",
   "execution_count": 41,
   "id": "86001df6-6a08-4565-90c4-508ffaca14e3",
   "metadata": {},
   "outputs": [
    {
     "name": "stderr",
     "output_type": "stream",
     "text": [
      "/home/paperspace/miniforge3/envs/ml/lib/python3.10/site-packages/fastai/callback/fp16.py:47: FutureWarning: `torch.cuda.amp.autocast(args...)` is deprecated. Please use `torch.amp.autocast('cuda', args...)` instead.\n",
      "  self.autocast,self.learn.scaler,self.scales = autocast(dtype=dtype),GradScaler(**self.kwargs),L()\n",
      "/home/paperspace/miniforge3/envs/ml/lib/python3.10/site-packages/fastai/callback/fp16.py:47: FutureWarning: `torch.cuda.amp.GradScaler(args...)` is deprecated. Please use `torch.amp.GradScaler('cuda', args...)` instead.\n",
      "  self.autocast,self.learn.scaler,self.scales = autocast(dtype=dtype),GradScaler(**self.kwargs),L()\n"
     ]
    },
    {
     "data": {
      "text/html": [
       "\n",
       "<style>\n",
       "    /* Turns off some styling */\n",
       "    progress {\n",
       "        /* gets rid of default border in Firefox and Opera. */\n",
       "        border: none;\n",
       "        /* Needs to be in here for Safari polyfill so background images work as expected. */\n",
       "        background-size: auto;\n",
       "    }\n",
       "    progress:not([value]), progress:not([value])::-webkit-progress-bar {\n",
       "        background: repeating-linear-gradient(45deg, #7e7e7e, #7e7e7e 10px, #5c5c5c 10px, #5c5c5c 20px);\n",
       "    }\n",
       "    .progress-bar-interrupted, .progress-bar-interrupted::-webkit-progress-bar {\n",
       "        background: #F44336;\n",
       "    }\n",
       "</style>\n"
      ],
      "text/plain": [
       "<IPython.core.display.HTML object>"
      ]
     },
     "metadata": {},
     "output_type": "display_data"
    },
    {
     "data": {
      "text/html": [
       "<table border=\"1\" class=\"dataframe\">\n",
       "  <thead>\n",
       "    <tr style=\"text-align: left;\">\n",
       "      <th>epoch</th>\n",
       "      <th>train_loss</th>\n",
       "      <th>valid_loss</th>\n",
       "      <th>accuracy</th>\n",
       "      <th>time</th>\n",
       "    </tr>\n",
       "  </thead>\n",
       "  <tbody>\n",
       "    <tr>\n",
       "      <td>0</td>\n",
       "      <td>0.193395</td>\n",
       "      <td>0.193456</td>\n",
       "      <td>0.925000</td>\n",
       "      <td>05:35</td>\n",
       "    </tr>\n",
       "    <tr>\n",
       "      <td>1</td>\n",
       "      <td>0.185944</td>\n",
       "      <td>0.192839</td>\n",
       "      <td>0.928200</td>\n",
       "      <td>05:35</td>\n",
       "    </tr>\n",
       "  </tbody>\n",
       "</table>"
      ],
      "text/plain": [
       "<IPython.core.display.HTML object>"
      ]
     },
     "metadata": {},
     "output_type": "display_data"
    }
   ],
   "source": [
    "learn.unfreeze()\n",
    "learn.fit_one_cycle(2, slice(1e-3/(2.6**4),1e-3))"
   ]
  },
  {
   "cell_type": "markdown",
   "id": "ab4af187-67b6-47d1-b289-784f593b7cff",
   "metadata": {},
   "source": [
    "Note: 92.8% accuracy for the forward classifier."
   ]
  },
  {
   "cell_type": "code",
   "execution_count": 42,
   "id": "ceb8e04d-048f-4b4e-89c1-71c3ef647d7a",
   "metadata": {},
   "outputs": [
    {
     "data": {
      "text/plain": [
       "Path('/home/paperspace/.fastai/data/imdb/models/forwards_clas.pth')"
      ]
     },
     "execution_count": 42,
     "metadata": {},
     "output_type": "execute_result"
    }
   ],
   "source": [
    "learn.save('forwards_clas')"
   ]
  },
  {
   "cell_type": "markdown",
   "id": "a1ffd599-6257-4d6d-a8ef-686e04543c2d",
   "metadata": {},
   "source": [
    "## Training Backwards Versions"
   ]
  },
  {
   "cell_type": "markdown",
   "id": "3a2a1f93-1427-4ff7-a4eb-c78ea60b0462",
   "metadata": {},
   "source": [
    "Now, let's do the interesting part: train backwards versions of these models, average them together, and confirm the overall accuracy improves as indicated in the book. \n",
    "\n",
    "The approach is:\n",
    "- reverse the text\n",
    "- train a backwards version language model on the reversed text\n",
    "- train a backwards classifier on the reversed text (same labels)\n",
    "- create an ensemble model that averages the forwards classifier and the backwards classier\n",
    "- evaluate the ensemble model on the validation set\n",
    "\n"
   ]
  },
  {
   "cell_type": "markdown",
   "id": "35e486c5-a05f-4e13-8782-29d9b1ad26c8",
   "metadata": {},
   "source": [
    "Reverse the text by passing `backwards=True`"
   ]
  },
  {
   "cell_type": "code",
   "execution_count": 43,
   "id": "97695eff-951c-4068-a5ab-5aa7c2990d7b",
   "metadata": {},
   "outputs": [
    {
     "name": "stdout",
     "output_type": "stream",
     "text": [
      ":) ! ) time through propaganda of fashion of curiosity for , once least at ( it see must xxmaj .. indian xxmaj local drunk a from manhattan xxmaj of purchasing the and amsterdam xxmaj new xxmaj of \" xxunk \" the pretty and columbus xxmaj by continent xxmaj american xxmaj the of discovering the describing of way the is\n",
      "aidan xxmaj help to order in xxmaj . illuminate to how brendon xxmaj teach to offers aiden xxmaj chagrin 's uncle his to much xxmaj . personality warm his and him towards drifts brendon xxmaj , monastery destroyed a from arrives aidan xxmaj xxunk legendary a when xxmaj . time own his in things doing by uncle his of ire\n",
      "! ) time through propaganda of fashion of curiosity for , once least at ( it see must xxmaj .. indian xxmaj local drunk a from manhattan xxmaj of purchasing the and amsterdam xxmaj new xxmaj of \" xxunk \" the pretty and columbus xxmaj by continent xxmaj american xxmaj the of discovering the describing of way the is funny\n",
      "xxmaj help to order in xxmaj . illuminate to how brendon xxmaj teach to offers aiden xxmaj chagrin 's uncle his to much xxmaj . personality warm his and him towards drifts brendon xxmaj , monastery destroyed a from arrives aidan xxmaj xxunk legendary a when xxmaj . time own his in things doing by uncle his of ire the\n"
     ]
    }
   ],
   "source": [
    "dls_lm_reversed = DataBlock(\n",
    "    blocks=TextBlock.from_folder(path, is_lm=True, backwards=True),\n",
    "    get_items=get_items, splitter=RandomSplitter(0.2)\n",
    ").dataloaders(path, path=path, bs=bs, seq_len=seq_len)\n",
    "dls_lm_reversed.show_batch(max_n=2)"
   ]
  },
  {
   "cell_type": "code",
   "execution_count": 44,
   "id": "5114a30b-ee05-4b1b-a805-1017db567d01",
   "metadata": {},
   "outputs": [],
   "source": [
    "learn_reversed = language_model_learner(\n",
    "    dls_lm_reversed, AWD_LSTM, drop_mult=0.5, \n",
    "    metrics=[accuracy, Perplexity()]).to_fp16()"
   ]
  },
  {
   "cell_type": "code",
   "execution_count": 45,
   "id": "ce356c06-584a-4697-9568-8d8cc17b1465",
   "metadata": {},
   "outputs": [
    {
     "name": "stderr",
     "output_type": "stream",
     "text": [
      "/home/paperspace/miniforge3/envs/ml/lib/python3.10/site-packages/fastai/callback/fp16.py:47: FutureWarning: `torch.cuda.amp.autocast(args...)` is deprecated. Please use `torch.amp.autocast('cuda', args...)` instead.\n",
      "  self.autocast,self.learn.scaler,self.scales = autocast(dtype=dtype),GradScaler(**self.kwargs),L()\n",
      "/home/paperspace/miniforge3/envs/ml/lib/python3.10/site-packages/fastai/callback/fp16.py:47: FutureWarning: `torch.cuda.amp.GradScaler(args...)` is deprecated. Please use `torch.amp.GradScaler('cuda', args...)` instead.\n",
      "  self.autocast,self.learn.scaler,self.scales = autocast(dtype=dtype),GradScaler(**self.kwargs),L()\n"
     ]
    },
    {
     "data": {
      "text/html": [
       "\n",
       "<style>\n",
       "    /* Turns off some styling */\n",
       "    progress {\n",
       "        /* gets rid of default border in Firefox and Opera. */\n",
       "        border: none;\n",
       "        /* Needs to be in here for Safari polyfill so background images work as expected. */\n",
       "        background-size: auto;\n",
       "    }\n",
       "    progress:not([value]), progress:not([value])::-webkit-progress-bar {\n",
       "        background: repeating-linear-gradient(45deg, #7e7e7e, #7e7e7e 10px, #5c5c5c 10px, #5c5c5c 20px);\n",
       "    }\n",
       "    .progress-bar-interrupted, .progress-bar-interrupted::-webkit-progress-bar {\n",
       "        background: #F44336;\n",
       "    }\n",
       "</style>\n"
      ],
      "text/plain": [
       "<IPython.core.display.HTML object>"
      ]
     },
     "metadata": {},
     "output_type": "display_data"
    },
    {
     "data": {
      "text/html": [
       "<table border=\"1\" class=\"dataframe\">\n",
       "  <thead>\n",
       "    <tr style=\"text-align: left;\">\n",
       "      <th>epoch</th>\n",
       "      <th>train_loss</th>\n",
       "      <th>valid_loss</th>\n",
       "      <th>accuracy</th>\n",
       "      <th>perplexity</th>\n",
       "      <th>time</th>\n",
       "    </tr>\n",
       "  </thead>\n",
       "  <tbody>\n",
       "    <tr>\n",
       "      <td>0</td>\n",
       "      <td>5.175122</td>\n",
       "      <td>5.044724</td>\n",
       "      <td>0.234684</td>\n",
       "      <td>155.201385</td>\n",
       "      <td>02:45</td>\n",
       "    </tr>\n",
       "  </tbody>\n",
       "</table>"
      ],
      "text/plain": [
       "<IPython.core.display.HTML object>"
      ]
     },
     "metadata": {},
     "output_type": "display_data"
    },
    {
     "name": "stderr",
     "output_type": "stream",
     "text": [
      "/home/paperspace/miniforge3/envs/ml/lib/python3.10/site-packages/fastai/callback/fp16.py:47: FutureWarning: `torch.cuda.amp.autocast(args...)` is deprecated. Please use `torch.amp.autocast('cuda', args...)` instead.\n",
      "  self.autocast,self.learn.scaler,self.scales = autocast(dtype=dtype),GradScaler(**self.kwargs),L()\n",
      "/home/paperspace/miniforge3/envs/ml/lib/python3.10/site-packages/fastai/callback/fp16.py:47: FutureWarning: `torch.cuda.amp.GradScaler(args...)` is deprecated. Please use `torch.amp.GradScaler('cuda', args...)` instead.\n",
      "  self.autocast,self.learn.scaler,self.scales = autocast(dtype=dtype),GradScaler(**self.kwargs),L()\n"
     ]
    },
    {
     "data": {
      "text/html": [
       "\n",
       "<style>\n",
       "    /* Turns off some styling */\n",
       "    progress {\n",
       "        /* gets rid of default border in Firefox and Opera. */\n",
       "        border: none;\n",
       "        /* Needs to be in here for Safari polyfill so background images work as expected. */\n",
       "        background-size: auto;\n",
       "    }\n",
       "    progress:not([value]), progress:not([value])::-webkit-progress-bar {\n",
       "        background: repeating-linear-gradient(45deg, #7e7e7e, #7e7e7e 10px, #5c5c5c 10px, #5c5c5c 20px);\n",
       "    }\n",
       "    .progress-bar-interrupted, .progress-bar-interrupted::-webkit-progress-bar {\n",
       "        background: #F44336;\n",
       "    }\n",
       "</style>\n"
      ],
      "text/plain": [
       "<IPython.core.display.HTML object>"
      ]
     },
     "metadata": {},
     "output_type": "display_data"
    },
    {
     "data": {
      "text/html": [
       "<table border=\"1\" class=\"dataframe\">\n",
       "  <thead>\n",
       "    <tr style=\"text-align: left;\">\n",
       "      <th>epoch</th>\n",
       "      <th>train_loss</th>\n",
       "      <th>valid_loss</th>\n",
       "      <th>accuracy</th>\n",
       "      <th>perplexity</th>\n",
       "      <th>time</th>\n",
       "    </tr>\n",
       "  </thead>\n",
       "  <tbody>\n",
       "    <tr>\n",
       "      <td>0</td>\n",
       "      <td>4.571108</td>\n",
       "      <td>4.770617</td>\n",
       "      <td>0.260896</td>\n",
       "      <td>117.992081</td>\n",
       "      <td>03:05</td>\n",
       "    </tr>\n",
       "    <tr>\n",
       "      <td>1</td>\n",
       "      <td>4.323902</td>\n",
       "      <td>4.521734</td>\n",
       "      <td>0.287128</td>\n",
       "      <td>91.994957</td>\n",
       "      <td>03:05</td>\n",
       "    </tr>\n",
       "    <tr>\n",
       "      <td>2</td>\n",
       "      <td>4.066789</td>\n",
       "      <td>4.437424</td>\n",
       "      <td>0.298586</td>\n",
       "      <td>84.556816</td>\n",
       "      <td>03:05</td>\n",
       "    </tr>\n",
       "    <tr>\n",
       "      <td>3</td>\n",
       "      <td>3.757337</td>\n",
       "      <td>4.437806</td>\n",
       "      <td>0.301543</td>\n",
       "      <td>84.589157</td>\n",
       "      <td>03:04</td>\n",
       "    </tr>\n",
       "    <tr>\n",
       "      <td>4</td>\n",
       "      <td>3.515084</td>\n",
       "      <td>4.475455</td>\n",
       "      <td>0.301009</td>\n",
       "      <td>87.834579</td>\n",
       "      <td>03:05</td>\n",
       "    </tr>\n",
       "  </tbody>\n",
       "</table>"
      ],
      "text/plain": [
       "<IPython.core.display.HTML object>"
      ]
     },
     "metadata": {},
     "output_type": "display_data"
    }
   ],
   "source": [
    "learn_reversed.fit_one_cycle(1, 2e-2)\n",
    "learn_reversed.save('1epoch_reversed')\n",
    "learn_reversed.unfreeze()\n",
    "learn_reversed.fit_one_cycle(5, 2e-3)\n",
    "learn_reversed.save_encoder('finetuned_reversed')"
   ]
  },
  {
   "cell_type": "markdown",
   "id": "2f7d04ad-7db4-4e69-b484-d54b0f81cefc",
   "metadata": {},
   "source": [
    "Since `dls_clas` and `dls_clas_reversed` are used to train classifiers that will ultimately be ensembled together, we need to ensure the validation set of both models are the same documents in the same order."
   ]
  },
  {
   "cell_type": "code",
   "execution_count": 49,
   "id": "6c2baf5c-ce7a-449c-b60a-ea3dd8da911b",
   "metadata": {},
   "outputs": [],
   "source": [
    "# Create a custom splitter that uses the exact same indices\n",
    "def fixed_splitter(items):\n",
    "    # Get validation set indices from dls_clas\n",
    "    valid_idxs = dls_clas.splits[1]\n",
    "    \n",
    "    # Create train indices (everything not in valid)\n",
    "    all_idxs = set(range(len(items)))\n",
    "    valid_set = set(valid_idxs)\n",
    "    train_idxs = list(all_idxs - valid_set)\n",
    "    return train_idxs, list(valid_idxs)\n",
    "    \n",
    "dls_clas_reversed = DataBlock(\n",
    "    blocks=(TextBlock.from_folder(path, vocab=dls_lm.vocab, backwards=True), CategoryBlock),\n",
    "    get_y = parent_label,  \n",
    "    get_items=get_items_for_clas,  # same function as above\n",
    "    splitter=fixed_splitter\n",
    ").dataloaders(path, path=path, bs=bs, seq_len=seq_len)"
   ]
  },
  {
   "cell_type": "code",
   "execution_count": 50,
   "id": "f03de5fa-8e7d-44ad-b88f-5810c2abe9b2",
   "metadata": {},
   "outputs": [],
   "source": [
    "learn_reversed = learn_reversed.load_encoder('finetuned_reversed')\n",
    "learn_reversed = text_classifier_learner(dls_clas_reversed, AWD_LSTM, drop_mult=0.5, \n",
    "                                        metrics=accuracy).to_fp16()"
   ]
  },
  {
   "cell_type": "markdown",
   "id": "c6ad74d2-a9a4-4f15-a575-f184a2add3b8",
   "metadata": {},
   "source": [
    "Ensure dls_clas and dls_clas_reversed have the same labels in the same order."
   ]
  },
  {
   "cell_type": "code",
   "execution_count": 73,
   "id": "c0c31d55-ce5e-491a-a664-2eed38d6fb95",
   "metadata": {},
   "outputs": [
    {
     "data": {
      "text/plain": [
       "True"
      ]
     },
     "execution_count": 73,
     "metadata": {},
     "output_type": "execute_result"
    }
   ],
   "source": [
    "len(dls_clas.valid.items) == len(dls_clas_reversed.valid.items)"
   ]
  },
  {
   "cell_type": "code",
   "execution_count": 74,
   "id": "a45b0403-aa33-40bc-a33f-df8c245ceb96",
   "metadata": {},
   "outputs": [
    {
     "data": {
      "text/plain": [
       "True"
      ]
     },
     "execution_count": 74,
     "metadata": {},
     "output_type": "execute_result"
    }
   ],
   "source": [
    "all(dls_clas.valid.items[0] == dls_clas_reversed.valid.items[0] for i in range(len(dls_clas.valid.items)))"
   ]
  },
  {
   "cell_type": "code",
   "execution_count": 76,
   "id": "7207b1ed-d517-4ed1-a819-54236629a083",
   "metadata": {},
   "outputs": [
    {
     "data": {
      "text/plain": [
       "True"
      ]
     },
     "execution_count": 76,
     "metadata": {},
     "output_type": "execute_result"
    }
   ],
   "source": [
    "all(dls_clas.valid.items[0] == dls_clas_reversed.valid.items[0] for i in range(len(dls_clas.valid.items)))\n",
    "all(i1[1] == i2[1] for i1, i2 in zip(dls_clas.valid_ds, dls_clas_reversed.valid_ds))"
   ]
  },
  {
   "cell_type": "code",
   "execution_count": 77,
   "id": "c3cd0d57-f592-46e1-a056-9fe14ab7cbbe",
   "metadata": {},
   "outputs": [
    {
     "name": "stderr",
     "output_type": "stream",
     "text": [
      "/home/paperspace/miniforge3/envs/ml/lib/python3.10/site-packages/fastai/callback/fp16.py:47: FutureWarning: `torch.cuda.amp.autocast(args...)` is deprecated. Please use `torch.amp.autocast('cuda', args...)` instead.\n",
      "  self.autocast,self.learn.scaler,self.scales = autocast(dtype=dtype),GradScaler(**self.kwargs),L()\n",
      "/home/paperspace/miniforge3/envs/ml/lib/python3.10/site-packages/fastai/callback/fp16.py:47: FutureWarning: `torch.cuda.amp.GradScaler(args...)` is deprecated. Please use `torch.amp.GradScaler('cuda', args...)` instead.\n",
      "  self.autocast,self.learn.scaler,self.scales = autocast(dtype=dtype),GradScaler(**self.kwargs),L()\n"
     ]
    },
    {
     "data": {
      "text/html": [
       "\n",
       "<style>\n",
       "    /* Turns off some styling */\n",
       "    progress {\n",
       "        /* gets rid of default border in Firefox and Opera. */\n",
       "        border: none;\n",
       "        /* Needs to be in here for Safari polyfill so background images work as expected. */\n",
       "        background-size: auto;\n",
       "    }\n",
       "    progress:not([value]), progress:not([value])::-webkit-progress-bar {\n",
       "        background: repeating-linear-gradient(45deg, #7e7e7e, #7e7e7e 10px, #5c5c5c 10px, #5c5c5c 20px);\n",
       "    }\n",
       "    .progress-bar-interrupted, .progress-bar-interrupted::-webkit-progress-bar {\n",
       "        background: #F44336;\n",
       "    }\n",
       "</style>\n"
      ],
      "text/plain": [
       "<IPython.core.display.HTML object>"
      ]
     },
     "metadata": {},
     "output_type": "display_data"
    },
    {
     "data": {
      "text/html": [
       "<table border=\"1\" class=\"dataframe\">\n",
       "  <thead>\n",
       "    <tr style=\"text-align: left;\">\n",
       "      <th>epoch</th>\n",
       "      <th>train_loss</th>\n",
       "      <th>valid_loss</th>\n",
       "      <th>accuracy</th>\n",
       "      <th>time</th>\n",
       "    </tr>\n",
       "  </thead>\n",
       "  <tbody>\n",
       "    <tr>\n",
       "      <td>0</td>\n",
       "      <td>0.486241</td>\n",
       "      <td>0.441408</td>\n",
       "      <td>0.798200</td>\n",
       "      <td>02:20</td>\n",
       "    </tr>\n",
       "  </tbody>\n",
       "</table>"
      ],
      "text/plain": [
       "<IPython.core.display.HTML object>"
      ]
     },
     "metadata": {},
     "output_type": "display_data"
    },
    {
     "name": "stderr",
     "output_type": "stream",
     "text": [
      "/home/paperspace/miniforge3/envs/ml/lib/python3.10/site-packages/fastai/callback/fp16.py:47: FutureWarning: `torch.cuda.amp.autocast(args...)` is deprecated. Please use `torch.amp.autocast('cuda', args...)` instead.\n",
      "  self.autocast,self.learn.scaler,self.scales = autocast(dtype=dtype),GradScaler(**self.kwargs),L()\n",
      "/home/paperspace/miniforge3/envs/ml/lib/python3.10/site-packages/fastai/callback/fp16.py:47: FutureWarning: `torch.cuda.amp.GradScaler(args...)` is deprecated. Please use `torch.amp.GradScaler('cuda', args...)` instead.\n",
      "  self.autocast,self.learn.scaler,self.scales = autocast(dtype=dtype),GradScaler(**self.kwargs),L()\n"
     ]
    },
    {
     "data": {
      "text/html": [
       "\n",
       "<style>\n",
       "    /* Turns off some styling */\n",
       "    progress {\n",
       "        /* gets rid of default border in Firefox and Opera. */\n",
       "        border: none;\n",
       "        /* Needs to be in here for Safari polyfill so background images work as expected. */\n",
       "        background-size: auto;\n",
       "    }\n",
       "    progress:not([value]), progress:not([value])::-webkit-progress-bar {\n",
       "        background: repeating-linear-gradient(45deg, #7e7e7e, #7e7e7e 10px, #5c5c5c 10px, #5c5c5c 20px);\n",
       "    }\n",
       "    .progress-bar-interrupted, .progress-bar-interrupted::-webkit-progress-bar {\n",
       "        background: #F44336;\n",
       "    }\n",
       "</style>\n"
      ],
      "text/plain": [
       "<IPython.core.display.HTML object>"
      ]
     },
     "metadata": {},
     "output_type": "display_data"
    },
    {
     "data": {
      "text/html": [
       "<table border=\"1\" class=\"dataframe\">\n",
       "  <thead>\n",
       "    <tr style=\"text-align: left;\">\n",
       "      <th>epoch</th>\n",
       "      <th>train_loss</th>\n",
       "      <th>valid_loss</th>\n",
       "      <th>accuracy</th>\n",
       "      <th>time</th>\n",
       "    </tr>\n",
       "  </thead>\n",
       "  <tbody>\n",
       "    <tr>\n",
       "      <td>0</td>\n",
       "      <td>0.398709</td>\n",
       "      <td>0.355015</td>\n",
       "      <td>0.846200</td>\n",
       "      <td>02:46</td>\n",
       "    </tr>\n",
       "  </tbody>\n",
       "</table>"
      ],
      "text/plain": [
       "<IPython.core.display.HTML object>"
      ]
     },
     "metadata": {},
     "output_type": "display_data"
    },
    {
     "name": "stderr",
     "output_type": "stream",
     "text": [
      "/home/paperspace/miniforge3/envs/ml/lib/python3.10/site-packages/fastai/callback/fp16.py:47: FutureWarning: `torch.cuda.amp.autocast(args...)` is deprecated. Please use `torch.amp.autocast('cuda', args...)` instead.\n",
      "  self.autocast,self.learn.scaler,self.scales = autocast(dtype=dtype),GradScaler(**self.kwargs),L()\n",
      "/home/paperspace/miniforge3/envs/ml/lib/python3.10/site-packages/fastai/callback/fp16.py:47: FutureWarning: `torch.cuda.amp.GradScaler(args...)` is deprecated. Please use `torch.amp.GradScaler('cuda', args...)` instead.\n",
      "  self.autocast,self.learn.scaler,self.scales = autocast(dtype=dtype),GradScaler(**self.kwargs),L()\n"
     ]
    },
    {
     "data": {
      "text/html": [
       "\n",
       "<style>\n",
       "    /* Turns off some styling */\n",
       "    progress {\n",
       "        /* gets rid of default border in Firefox and Opera. */\n",
       "        border: none;\n",
       "        /* Needs to be in here for Safari polyfill so background images work as expected. */\n",
       "        background-size: auto;\n",
       "    }\n",
       "    progress:not([value]), progress:not([value])::-webkit-progress-bar {\n",
       "        background: repeating-linear-gradient(45deg, #7e7e7e, #7e7e7e 10px, #5c5c5c 10px, #5c5c5c 20px);\n",
       "    }\n",
       "    .progress-bar-interrupted, .progress-bar-interrupted::-webkit-progress-bar {\n",
       "        background: #F44336;\n",
       "    }\n",
       "</style>\n"
      ],
      "text/plain": [
       "<IPython.core.display.HTML object>"
      ]
     },
     "metadata": {},
     "output_type": "display_data"
    },
    {
     "data": {
      "text/html": [
       "<table border=\"1\" class=\"dataframe\">\n",
       "  <thead>\n",
       "    <tr style=\"text-align: left;\">\n",
       "      <th>epoch</th>\n",
       "      <th>train_loss</th>\n",
       "      <th>valid_loss</th>\n",
       "      <th>accuracy</th>\n",
       "      <th>time</th>\n",
       "    </tr>\n",
       "  </thead>\n",
       "  <tbody>\n",
       "    <tr>\n",
       "      <td>0</td>\n",
       "      <td>0.314130</td>\n",
       "      <td>0.266313</td>\n",
       "      <td>0.891800</td>\n",
       "      <td>04:16</td>\n",
       "    </tr>\n",
       "  </tbody>\n",
       "</table>"
      ],
      "text/plain": [
       "<IPython.core.display.HTML object>"
      ]
     },
     "metadata": {},
     "output_type": "display_data"
    },
    {
     "name": "stderr",
     "output_type": "stream",
     "text": [
      "/home/paperspace/miniforge3/envs/ml/lib/python3.10/site-packages/fastai/callback/fp16.py:47: FutureWarning: `torch.cuda.amp.autocast(args...)` is deprecated. Please use `torch.amp.autocast('cuda', args...)` instead.\n",
      "  self.autocast,self.learn.scaler,self.scales = autocast(dtype=dtype),GradScaler(**self.kwargs),L()\n",
      "/home/paperspace/miniforge3/envs/ml/lib/python3.10/site-packages/fastai/callback/fp16.py:47: FutureWarning: `torch.cuda.amp.GradScaler(args...)` is deprecated. Please use `torch.amp.GradScaler('cuda', args...)` instead.\n",
      "  self.autocast,self.learn.scaler,self.scales = autocast(dtype=dtype),GradScaler(**self.kwargs),L()\n"
     ]
    },
    {
     "data": {
      "text/html": [
       "\n",
       "<style>\n",
       "    /* Turns off some styling */\n",
       "    progress {\n",
       "        /* gets rid of default border in Firefox and Opera. */\n",
       "        border: none;\n",
       "        /* Needs to be in here for Safari polyfill so background images work as expected. */\n",
       "        background-size: auto;\n",
       "    }\n",
       "    progress:not([value]), progress:not([value])::-webkit-progress-bar {\n",
       "        background: repeating-linear-gradient(45deg, #7e7e7e, #7e7e7e 10px, #5c5c5c 10px, #5c5c5c 20px);\n",
       "    }\n",
       "    .progress-bar-interrupted, .progress-bar-interrupted::-webkit-progress-bar {\n",
       "        background: #F44336;\n",
       "    }\n",
       "</style>\n"
      ],
      "text/plain": [
       "<IPython.core.display.HTML object>"
      ]
     },
     "metadata": {},
     "output_type": "display_data"
    },
    {
     "data": {
      "text/html": [
       "<table border=\"1\" class=\"dataframe\">\n",
       "  <thead>\n",
       "    <tr style=\"text-align: left;\">\n",
       "      <th>epoch</th>\n",
       "      <th>train_loss</th>\n",
       "      <th>valid_loss</th>\n",
       "      <th>accuracy</th>\n",
       "      <th>time</th>\n",
       "    </tr>\n",
       "  </thead>\n",
       "  <tbody>\n",
       "    <tr>\n",
       "      <td>0</td>\n",
       "      <td>0.277666</td>\n",
       "      <td>0.250407</td>\n",
       "      <td>0.899400</td>\n",
       "      <td>05:35</td>\n",
       "    </tr>\n",
       "    <tr>\n",
       "      <td>1</td>\n",
       "      <td>0.231261</td>\n",
       "      <td>0.247488</td>\n",
       "      <td>0.900800</td>\n",
       "      <td>05:35</td>\n",
       "    </tr>\n",
       "  </tbody>\n",
       "</table>"
      ],
      "text/plain": [
       "<IPython.core.display.HTML object>"
      ]
     },
     "metadata": {},
     "output_type": "display_data"
    }
   ],
   "source": [
    "learn_reversed.fit_one_cycle(1, 2e-2)\n",
    "learn_reversed.freeze_to(-2)\n",
    "learn_reversed.fit_one_cycle(1, slice(1e-2/(2.6**4),1e-2))\n",
    "learn_reversed.freeze_to(-3)\n",
    "learn_reversed.fit_one_cycle(1, slice(5e-3/(2.6**4),5e-3))\n",
    "learn_reversed.unfreeze()\n",
    "learn_reversed.fit_one_cycle(2, slice(1e-3/(2.6**4),1e-3))"
   ]
  },
  {
   "cell_type": "markdown",
   "id": "4400ceb0-67fe-4aa7-9b0e-f346e1f0e041",
   "metadata": {},
   "source": [
    "Accuracy here is 90.1%"
   ]
  },
  {
   "cell_type": "code",
   "execution_count": 78,
   "id": "85060694-d8e7-4c20-96a4-c370ce4f42e2",
   "metadata": {},
   "outputs": [
    {
     "data": {
      "text/plain": [
       "Path('/home/paperspace/.fastai/data/imdb/models/reversed_clas.pth')"
      ]
     },
     "execution_count": 78,
     "metadata": {},
     "output_type": "execute_result"
    }
   ],
   "source": [
    "learn_reversed.save('reversed_clas')"
   ]
  },
  {
   "cell_type": "markdown",
   "id": "9022dcb5-fc09-4c78-b67c-23d02a6bf8e9",
   "metadata": {},
   "source": [
    "## Ensembling"
   ]
  },
  {
   "cell_type": "markdown",
   "id": "a1c5e9aa-d5a6-43b3-85c6-cc46b052fd5a",
   "metadata": {},
   "source": [
    "Now, we have classifiers `learn` (92.8%) and `learn_reversed` (90.1%). \n",
    "\n",
    "Next target: average their predictions together on the `valid` dataset and see if the averaged predictions eclipse what we found on either the individual classifiers."
   ]
  },
  {
   "cell_type": "code",
   "execution_count": 80,
   "id": "4f4f2458-4f7c-4a35-b13e-2722902b942e",
   "metadata": {},
   "outputs": [
    {
     "name": "stderr",
     "output_type": "stream",
     "text": [
      "/home/paperspace/miniforge3/envs/ml/lib/python3.10/site-packages/fastai/callback/fp16.py:47: FutureWarning: `torch.cuda.amp.autocast(args...)` is deprecated. Please use `torch.amp.autocast('cuda', args...)` instead.\n",
      "  self.autocast,self.learn.scaler,self.scales = autocast(dtype=dtype),GradScaler(**self.kwargs),L()\n",
      "/home/paperspace/miniforge3/envs/ml/lib/python3.10/site-packages/fastai/callback/fp16.py:47: FutureWarning: `torch.cuda.amp.GradScaler(args...)` is deprecated. Please use `torch.amp.GradScaler('cuda', args...)` instead.\n",
      "  self.autocast,self.learn.scaler,self.scales = autocast(dtype=dtype),GradScaler(**self.kwargs),L()\n"
     ]
    },
    {
     "data": {
      "text/html": [
       "\n",
       "<style>\n",
       "    /* Turns off some styling */\n",
       "    progress {\n",
       "        /* gets rid of default border in Firefox and Opera. */\n",
       "        border: none;\n",
       "        /* Needs to be in here for Safari polyfill so background images work as expected. */\n",
       "        background-size: auto;\n",
       "    }\n",
       "    progress:not([value]), progress:not([value])::-webkit-progress-bar {\n",
       "        background: repeating-linear-gradient(45deg, #7e7e7e, #7e7e7e 10px, #5c5c5c 10px, #5c5c5c 20px);\n",
       "    }\n",
       "    .progress-bar-interrupted, .progress-bar-interrupted::-webkit-progress-bar {\n",
       "        background: #F44336;\n",
       "    }\n",
       "</style>\n"
      ],
      "text/plain": [
       "<IPython.core.display.HTML object>"
      ]
     },
     "metadata": {},
     "output_type": "display_data"
    },
    {
     "data": {
      "text/html": [],
      "text/plain": [
       "<IPython.core.display.HTML object>"
      ]
     },
     "metadata": {},
     "output_type": "display_data"
    },
    {
     "name": "stderr",
     "output_type": "stream",
     "text": [
      "/home/paperspace/miniforge3/envs/ml/lib/python3.10/site-packages/fastai/callback/fp16.py:47: FutureWarning: `torch.cuda.amp.autocast(args...)` is deprecated. Please use `torch.amp.autocast('cuda', args...)` instead.\n",
      "  self.autocast,self.learn.scaler,self.scales = autocast(dtype=dtype),GradScaler(**self.kwargs),L()\n",
      "/home/paperspace/miniforge3/envs/ml/lib/python3.10/site-packages/fastai/callback/fp16.py:47: FutureWarning: `torch.cuda.amp.GradScaler(args...)` is deprecated. Please use `torch.amp.GradScaler('cuda', args...)` instead.\n",
      "  self.autocast,self.learn.scaler,self.scales = autocast(dtype=dtype),GradScaler(**self.kwargs),L()\n"
     ]
    },
    {
     "data": {
      "text/html": [
       "\n",
       "<style>\n",
       "    /* Turns off some styling */\n",
       "    progress {\n",
       "        /* gets rid of default border in Firefox and Opera. */\n",
       "        border: none;\n",
       "        /* Needs to be in here for Safari polyfill so background images work as expected. */\n",
       "        background-size: auto;\n",
       "    }\n",
       "    progress:not([value]), progress:not([value])::-webkit-progress-bar {\n",
       "        background: repeating-linear-gradient(45deg, #7e7e7e, #7e7e7e 10px, #5c5c5c 10px, #5c5c5c 20px);\n",
       "    }\n",
       "    .progress-bar-interrupted, .progress-bar-interrupted::-webkit-progress-bar {\n",
       "        background: #F44336;\n",
       "    }\n",
       "</style>\n"
      ],
      "text/plain": [
       "<IPython.core.display.HTML object>"
      ]
     },
     "metadata": {},
     "output_type": "display_data"
    },
    {
     "data": {
      "text/html": [],
      "text/plain": [
       "<IPython.core.display.HTML object>"
      ]
     },
     "metadata": {},
     "output_type": "display_data"
    }
   ],
   "source": [
    "# Get predictions on validation set (we confirmed above that dls_clas.valid and dls_clas_reverse.valid are ordered the same)\n",
    "preds_forward, targs_forward = learn.get_preds(dl=dls_clas.valid)\n",
    "preds_reversed, targs_reversed = learn_reversed.get_preds(dl=dls_clas_reversed.valid)"
   ]
  },
  {
   "cell_type": "code",
   "execution_count": 95,
   "id": "7ee20c43-4cdb-443a-9309-db6c395199cb",
   "metadata": {},
   "outputs": [
    {
     "data": {
      "text/plain": [
       "tensor([1, 0, 0, 1, 0])"
      ]
     },
     "execution_count": 95,
     "metadata": {},
     "output_type": "execute_result"
    }
   ],
   "source": [
    "targs_forward[:5]"
   ]
  },
  {
   "cell_type": "code",
   "execution_count": 96,
   "id": "77f28e50-d117-4384-9ff6-b4f0553682ef",
   "metadata": {},
   "outputs": [
    {
     "data": {
      "text/plain": [
       "tensor([[4.2554e-04, 9.9957e-01],\n",
       "        [9.7327e-01, 2.6734e-02],\n",
       "        [9.8475e-01, 1.5248e-02],\n",
       "        [8.3772e-04, 9.9916e-01],\n",
       "        [9.5573e-01, 4.4266e-02]])"
      ]
     },
     "execution_count": 96,
     "metadata": {},
     "output_type": "execute_result"
    }
   ],
   "source": [
    "preds_forward[:5]"
   ]
  },
  {
   "cell_type": "code",
   "execution_count": 97,
   "id": "7bcff5c5-5f01-43ca-b0ce-b724b698ca73",
   "metadata": {},
   "outputs": [
    {
     "data": {
      "text/plain": [
       "['neg', 'pos']"
      ]
     },
     "execution_count": 97,
     "metadata": {},
     "output_type": "execute_result"
    }
   ],
   "source": [
    "dls_clas.vocab[1]"
   ]
  },
  {
   "cell_type": "code",
   "execution_count": 98,
   "id": "70e5826f-7c56-45e3-80b5-cf32b4188cc8",
   "metadata": {},
   "outputs": [
    {
     "name": "stdout",
     "output_type": "stream",
     "text": [
      "Ensemble accuracy: TensorBase(0.9296)\n"
     ]
    }
   ],
   "source": [
    "# Average the predictions\n",
    "ensemble_preds = (preds_forward + preds_reversed) / 2\n",
    "\n",
    "# Calculate accuracy\n",
    "from fastai.metrics import accuracy\n",
    "acc = accuracy(ensemble_preds, targs_forward)\n",
    "print(f\"Ensemble accuracy: {acc}\")"
   ]
  },
  {
   "cell_type": "markdown",
   "id": "4413cd7d-61d0-4a5c-809f-a94d42f68589",
   "metadata": {},
   "source": [
    "The ensembled accuracy is 92.96%, which is a slight nudge up in accuracy from just the forward preds."
   ]
  },
  {
   "cell_type": "code",
   "execution_count": null,
   "id": "3957e5ff-1041-40d8-8d06-4a24b5875169",
   "metadata": {},
   "outputs": [],
   "source": []
  }
 ],
 "metadata": {
  "kernelspec": {
   "display_name": "Python 3 (ipykernel)",
   "language": "python",
   "name": "python3"
  },
  "language_info": {
   "codemirror_mode": {
    "name": "ipython",
    "version": 3
   },
   "file_extension": ".py",
   "mimetype": "text/x-python",
   "name": "python",
   "nbconvert_exporter": "python",
   "pygments_lexer": "ipython3",
   "version": "3.10.18"
  }
 },
 "nbformat": 4,
 "nbformat_minor": 5
}
