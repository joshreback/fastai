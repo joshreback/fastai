{
 "cells": [
  {
   "cell_type": "markdown",
   "id": "31c3baf9",
   "metadata": {},
   "source": [
    "NOTE: Much of this code was taken from this reference solution: https://david-salazar.github.io/dilettanting-deep-learning/2020/06/23/Fastbook-Chapter-4.html. The intended purpose is to document where it differs from my solution to faciliate learning."
   ]
  },
  {
   "cell_type": "code",
   "execution_count": 57,
   "id": "20669b7e",
   "metadata": {},
   "outputs": [],
   "source": [
    "! [ -e /content ] && pip install -Uqq fastbook\n",
    "import fastbook\n",
    "fastbook.setup_book()\n",
    "from fastai.vision.all import *\n",
    "from fastbook import *\n",
    "\n",
    "device = torch.device(\"cuda\" if torch.cuda.is_available() else \"cpu\")"
   ]
  },
  {
   "cell_type": "code",
   "execution_count": 58,
   "id": "865deff8",
   "metadata": {},
   "outputs": [
    {
     "data": {
      "text/plain": [
       "(#2) [Path('/home/paperspace/.fastai/data/mnist_png/testing'),Path('/home/paperspace/.fastai/data/mnist_png/training')]"
      ]
     },
     "execution_count": 58,
     "metadata": {},
     "output_type": "execute_result"
    }
   ],
   "source": [
    "path = untar_data(URLs.MNIST)\n",
    "path.ls()"
   ]
  },
  {
   "cell_type": "markdown",
   "id": "4cecbce1",
   "metadata": {},
   "source": [
    "First, use the idiomatic `DataBlock` API to load data instead of manually loading from disk as I did. As per chapter 2, there are at least four things I need to provide:\n",
    "- What kinds of data we are working with\n",
    "    - ImageData with a CategoryBlock\n",
    "- How to get the list of items\n",
    "    - Use the get_image_files function\n",
    "- How to label these items\n",
    "    - Use the fastai provided `parent_label` function, which uses the name of the folder\n",
    "- How to create the validation set\n",
    "    - This was a new one: `GrandparentSplitter(train_name='training', valid_name='testing')`"
   ]
  },
  {
   "cell_type": "code",
   "execution_count": 59,
   "id": "1537248e",
   "metadata": {},
   "outputs": [],
   "source": [
    "mnist = DataBlock(blocks=(ImageBlock(cls=PILImageBW), CategoryBlock), \n",
    "                  get_items=get_image_files, \n",
    "                  splitter=GrandparentSplitter(train_name='training', valid_name='testing'),\n",
    "                  get_y=parent_label)"
   ]
  },
  {
   "cell_type": "markdown",
   "id": "ac962bcf",
   "metadata": {},
   "source": [
    "As per chapter 2 again, this is just a template.\n",
    "\n",
    "To have live \"dataloaders\", we must provide the path we used above."
   ]
  },
  {
   "cell_type": "code",
   "execution_count": 60,
   "id": "ce6dc83a",
   "metadata": {},
   "outputs": [],
   "source": [
    "dls = mnist.dataloaders(path)"
   ]
  },
  {
   "cell_type": "markdown",
   "id": "cd407c1e",
   "metadata": {},
   "source": [
    "The nice thing about using the fastai data loaders is we can use pre-built methods for seeing the results."
   ]
  },
  {
   "cell_type": "code",
   "execution_count": 61,
   "id": "5b6ed2c6",
   "metadata": {},
   "outputs": [
    {
     "data": {
      "image/png": "[encoded data removed]",
      "text/plain": [
       "<Figure size 400x400 with 9 Axes>"
      ]
     },
     "metadata": {},
     "output_type": "display_data"
    }
   ],
   "source": [
    "dls.show_batch(max_n=9, figsize=(4,4))"
   ]
  },
  {
   "cell_type": "markdown",
   "id": "10f447e8",
   "metadata": {},
   "source": [
    "Apparently `Flatten` be passed into the model, avoiding the need to do separate preprocessing."
   ]
  },
  {
   "cell_type": "code",
   "execution_count": 62,
   "id": "8a9b6fbb",
   "metadata": {},
   "outputs": [],
   "source": [
    "simple_net = nn.Sequential(\n",
    "    Flatten(),\n",
    "    nn.Linear(28*28,30),\n",
    "    nn.ReLU(),\n",
    "    nn.Linear(30, 10),\n",
    ")"
   ]
  },
  {
   "cell_type": "code",
   "execution_count": null,
   "id": "bf53c333",
   "metadata": {},
   "outputs": [
    {
     "data": {
      "text/html": [
       "\n",
       "<style>\n",
       "    /* Turns off some styling */\n",
       "    progress {\n",
       "        /* gets rid of default border in Firefox and Opera. */\n",
       "        border: none;\n",
       "        /* Needs to be in here for Safari polyfill so background images work as expected. */\n",
       "        background-size: auto;\n",
       "    }\n",
       "    progress:not([value]), progress:not([value])::-webkit-progress-bar {\n",
       "        background: repeating-linear-gradient(45deg, #7e7e7e, #7e7e7e 10px, #5c5c5c 10px, #5c5c5c 20px);\n",
       "    }\n",
       "    .progress-bar-interrupted, .progress-bar-interrupted::-webkit-progress-bar {\n",
       "        background: #F44336;\n",
       "    }\n",
       "</style>\n"
      ],
      "text/plain": [
       "<IPython.core.display.HTML object>"
      ]
     },
     "metadata": {},
     "output_type": "display_data"
    },
    {
     "data": {
      "text/html": [
       "\n",
       "    <div>\n",
       "      <progress value='38' class='' max='40' style='width:300px; height:20px; vertical-align: middle;'></progress>\n",
       "      95.00% [38/40 29:07&lt;01:31]\n",
       "    </div>\n",
       "    \n",
       "<table border=\"1\" class=\"dataframe\">\n",
       "  <thead>\n",
       "    <tr style=\"text-align: left;\">\n",
       "      <th>epoch</th>\n",
       "      <th>train_loss</th>\n",
       "      <th>valid_loss</th>\n",
       "      <th>accuracy</th>\n",
       "      <th>time</th>\n",
       "    </tr>\n",
       "  </thead>\n",
       "  <tbody>\n",
       "    <tr>\n",
       "      <td>0</td>\n",
       "      <td>2.189835</td>\n",
       "      <td>2.184307</td>\n",
       "      <td>0.373200</td>\n",
       "      <td>00:45</td>\n",
       "    </tr>\n",
       "    <tr>\n",
       "      <td>1</td>\n",
       "      <td>2.020317</td>\n",
       "      <td>2.002742</td>\n",
       "      <td>0.488800</td>\n",
       "      <td>00:46</td>\n",
       "    </tr>\n",
       "    <tr>\n",
       "      <td>2</td>\n",
       "      <td>1.776634</td>\n",
       "      <td>1.755157</td>\n",
       "      <td>0.579000</td>\n",
       "      <td>00:45</td>\n",
       "    </tr>\n",
       "    <tr>\n",
       "      <td>3</td>\n",
       "      <td>1.504731</td>\n",
       "      <td>1.476359</td>\n",
       "      <td>0.701800</td>\n",
       "      <td>00:46</td>\n",
       "    </tr>\n",
       "    <tr>\n",
       "      <td>4</td>\n",
       "      <td>1.241272</td>\n",
       "      <td>1.214747</td>\n",
       "      <td>0.777100</td>\n",
       "      <td>00:45</td>\n",
       "    </tr>\n",
       "    <tr>\n",
       "      <td>5</td>\n",
       "      <td>1.043819</td>\n",
       "      <td>1.012798</td>\n",
       "      <td>0.805300</td>\n",
       "      <td>00:46</td>\n",
       "    </tr>\n",
       "    <tr>\n",
       "      <td>6</td>\n",
       "      <td>0.899319</td>\n",
       "      <td>0.869988</td>\n",
       "      <td>0.822600</td>\n",
       "      <td>00:46</td>\n",
       "    </tr>\n",
       "    <tr>\n",
       "      <td>7</td>\n",
       "      <td>0.789805</td>\n",
       "      <td>0.768641</td>\n",
       "      <td>0.834700</td>\n",
       "      <td>00:47</td>\n",
       "    </tr>\n",
       "    <tr>\n",
       "      <td>8</td>\n",
       "      <td>0.710833</td>\n",
       "      <td>0.695063</td>\n",
       "      <td>0.845300</td>\n",
       "      <td>00:46</td>\n",
       "    </tr>\n",
       "    <tr>\n",
       "      <td>9</td>\n",
       "      <td>0.661542</td>\n",
       "      <td>0.638964</td>\n",
       "      <td>0.852800</td>\n",
       "      <td>00:45</td>\n",
       "    </tr>\n",
       "    <tr>\n",
       "      <td>10</td>\n",
       "      <td>0.623935</td>\n",
       "      <td>0.595242</td>\n",
       "      <td>0.859500</td>\n",
       "      <td>00:46</td>\n",
       "    </tr>\n",
       "    <tr>\n",
       "      <td>11</td>\n",
       "      <td>0.585217</td>\n",
       "      <td>0.560306</td>\n",
       "      <td>0.866000</td>\n",
       "      <td>00:45</td>\n",
       "    </tr>\n",
       "    <tr>\n",
       "      <td>12</td>\n",
       "      <td>0.548032</td>\n",
       "      <td>0.531564</td>\n",
       "      <td>0.871400</td>\n",
       "      <td>00:45</td>\n",
       "    </tr>\n",
       "    <tr>\n",
       "      <td>13</td>\n",
       "      <td>0.516887</td>\n",
       "      <td>0.507640</td>\n",
       "      <td>0.874600</td>\n",
       "      <td>00:45</td>\n",
       "    </tr>\n",
       "    <tr>\n",
       "      <td>14</td>\n",
       "      <td>0.530129</td>\n",
       "      <td>0.487366</td>\n",
       "      <td>0.877700</td>\n",
       "      <td>00:46</td>\n",
       "    </tr>\n",
       "    <tr>\n",
       "      <td>15</td>\n",
       "      <td>0.492104</td>\n",
       "      <td>0.470106</td>\n",
       "      <td>0.880600</td>\n",
       "      <td>00:45</td>\n",
       "    </tr>\n",
       "    <tr>\n",
       "      <td>16</td>\n",
       "      <td>0.498030</td>\n",
       "      <td>0.455317</td>\n",
       "      <td>0.883900</td>\n",
       "      <td>00:45</td>\n",
       "    </tr>\n",
       "    <tr>\n",
       "      <td>17</td>\n",
       "      <td>0.479955</td>\n",
       "      <td>0.442274</td>\n",
       "      <td>0.886800</td>\n",
       "      <td>00:46</td>\n",
       "    </tr>\n",
       "    <tr>\n",
       "      <td>18</td>\n",
       "      <td>0.444596</td>\n",
       "      <td>0.430916</td>\n",
       "      <td>0.889100</td>\n",
       "      <td>00:45</td>\n",
       "    </tr>\n",
       "    <tr>\n",
       "      <td>19</td>\n",
       "      <td>0.439840</td>\n",
       "      <td>0.420939</td>\n",
       "      <td>0.890800</td>\n",
       "      <td>00:45</td>\n",
       "    </tr>\n",
       "    <tr>\n",
       "      <td>20</td>\n",
       "      <td>0.438901</td>\n",
       "      <td>0.411676</td>\n",
       "      <td>0.891600</td>\n",
       "      <td>00:45</td>\n",
       "    </tr>\n",
       "    <tr>\n",
       "      <td>21</td>\n",
       "      <td>0.430876</td>\n",
       "      <td>0.403295</td>\n",
       "      <td>0.893200</td>\n",
       "      <td>00:45</td>\n",
       "    </tr>\n",
       "    <tr>\n",
       "      <td>22</td>\n",
       "      <td>0.411022</td>\n",
       "      <td>0.396059</td>\n",
       "      <td>0.895100</td>\n",
       "      <td>00:45</td>\n",
       "    </tr>\n",
       "    <tr>\n",
       "      <td>23</td>\n",
       "      <td>0.394920</td>\n",
       "      <td>0.389370</td>\n",
       "      <td>0.896300</td>\n",
       "      <td>00:46</td>\n",
       "    </tr>\n",
       "    <tr>\n",
       "      <td>24</td>\n",
       "      <td>0.416307</td>\n",
       "      <td>0.383138</td>\n",
       "      <td>0.897200</td>\n",
       "      <td>00:46</td>\n",
       "    </tr>\n",
       "    <tr>\n",
       "      <td>25</td>\n",
       "      <td>0.409620</td>\n",
       "      <td>0.377344</td>\n",
       "      <td>0.898300</td>\n",
       "      <td>00:45</td>\n",
       "    </tr>\n",
       "    <tr>\n",
       "      <td>26</td>\n",
       "      <td>0.396046</td>\n",
       "      <td>0.372102</td>\n",
       "      <td>0.899400</td>\n",
       "      <td>00:46</td>\n",
       "    </tr>\n",
       "    <tr>\n",
       "      <td>27</td>\n",
       "      <td>0.407518</td>\n",
       "      <td>0.367215</td>\n",
       "      <td>0.900500</td>\n",
       "      <td>00:46</td>\n",
       "    </tr>\n",
       "    <tr>\n",
       "      <td>28</td>\n",
       "      <td>0.381994</td>\n",
       "      <td>0.362725</td>\n",
       "      <td>0.901100</td>\n",
       "      <td>00:46</td>\n",
       "    </tr>\n",
       "    <tr>\n",
       "      <td>29</td>\n",
       "      <td>0.378412</td>\n",
       "      <td>0.358475</td>\n",
       "      <td>0.902000</td>\n",
       "      <td>00:45</td>\n",
       "    </tr>\n",
       "    <tr>\n",
       "      <td>30</td>\n",
       "      <td>0.352968</td>\n",
       "      <td>0.354666</td>\n",
       "      <td>0.902500</td>\n",
       "      <td>00:46</td>\n",
       "    </tr>\n",
       "    <tr>\n",
       "      <td>31</td>\n",
       "      <td>0.357790</td>\n",
       "      <td>0.350729</td>\n",
       "      <td>0.903600</td>\n",
       "      <td>00:45</td>\n",
       "    </tr>\n",
       "    <tr>\n",
       "      <td>32</td>\n",
       "      <td>0.349911</td>\n",
       "      <td>0.347296</td>\n",
       "      <td>0.903700</td>\n",
       "      <td>00:46</td>\n",
       "    </tr>\n",
       "    <tr>\n",
       "      <td>33</td>\n",
       "      <td>0.368265</td>\n",
       "      <td>0.343872</td>\n",
       "      <td>0.904600</td>\n",
       "      <td>00:46</td>\n",
       "    </tr>\n",
       "    <tr>\n",
       "      <td>34</td>\n",
       "      <td>0.347058</td>\n",
       "      <td>0.340740</td>\n",
       "      <td>0.905300</td>\n",
       "      <td>00:45</td>\n",
       "    </tr>\n",
       "    <tr>\n",
       "      <td>35</td>\n",
       "      <td>0.355681</td>\n",
       "      <td>0.337606</td>\n",
       "      <td>0.906200</td>\n",
       "      <td>00:46</td>\n",
       "    </tr>\n",
       "    <tr>\n",
       "      <td>36</td>\n",
       "      <td>0.355509</td>\n",
       "      <td>0.335030</td>\n",
       "      <td>0.906000</td>\n",
       "      <td>00:45</td>\n",
       "    </tr>\n",
       "    <tr>\n",
       "      <td>37</td>\n",
       "      <td>0.353734</td>\n",
       "      <td>0.332236</td>\n",
       "      <td>0.908000</td>\n",
       "      <td>00:46</td>\n",
       "    </tr>\n",
       "  </tbody>\n",
       "</table><p>\n",
       "\n",
       "    <div>\n",
       "      <progress value='337' class='' max='937' style='width:300px; height:20px; vertical-align: middle;'></progress>\n",
       "      35.97% [337/937 00:16&lt;00:28 0.3481]\n",
       "    </div>\n",
       "    "
      ],
      "text/plain": [
       "<IPython.core.display.HTML object>"
      ]
     },
     "metadata": {},
     "output_type": "display_data"
    }
   ],
   "source": [
    "mnist_learner = Learner(dls, simple_net.to(device), opt_func=SGD, \n",
    "                        loss_func=F.cross_entropy, metrics=accuracy)\n",
    "mnist_learner.fit(40)"
   ]
  },
  {
   "cell_type": "markdown",
   "id": "f77ea1dc",
   "metadata": {},
   "source": [
    "Similar results - tops out in the low 90s"
   ]
  },
  {
   "cell_type": "markdown",
   "id": "d5f6ff23",
   "metadata": {},
   "source": [
    "Two things to learn here (practice looking things up in the docs):\n",
    "1. What is `F.cross_entropy` and how does it differ from my `mnist_loss` in the other notebook?\n",
    "2. What is Pytorch/FastAI's inbuilt `accuracy`? "
   ]
  },
  {
   "cell_type": "markdown",
   "id": "a0a2d121",
   "metadata": {},
   "source": [
    "1. `F.cross_entropy`"
   ]
  },
  {
   "cell_type": "markdown",
   "id": "e7e3e317",
   "metadata": {},
   "source": [
    "Apparently it: \"Compute the cross entropy loss between input logits and target.\"\n",
    "    \n",
    "Logits are the models raw predictions, pre-sigmoid. So, it is appropriate to not take the Sigmoid in the model, even though it's possible to. Better to keep the model's predictions what they are, and then if there's a computation that needs to be added for loss purposes, that can be done.\n",
    "\n",
    "But what is the Cross Entropy Loss?\n",
    "\n",
    "Pytorch docs have a bunch of scary math, but says: \"It is useful when training a classification problem with C classes.\". OK, that's us! \n",
    "\n",
    "More specifically, it: \"takes the negative logarithm of the predicted probability for the true class.\" (Google). \n",
    "\n",
    "-log(0.1) >> -log(0.9), which is what we want (higher loss for lower prediction of the true class). "
   ]
  },
  {
   "cell_type": "markdown",
   "id": "70fd959a",
   "metadata": {},
   "source": [
    "2. `accuracy`"
   ]
  },
  {
   "cell_type": "markdown",
   "id": "84659b64",
   "metadata": {},
   "source": [
    "The docs don't give much of an explanation, but we can easily verify whether this works on a sample of data we'd realistically pass to our model. "
   ]
  },
  {
   "cell_type": "code",
   "execution_count": null,
   "id": "1ae44b70",
   "metadata": {},
   "outputs": [],
   "source": [
    "preds = tensor([\n",
    "    [9, 1, 2],\n",
    "    [1, 7, 4],\n",
    "    [3, 2, 8]\n",
    "])\n",
    "\n",
    "actuals = tensor([\n",
    "    [1, 0, 0], # right\n",
    "    [1, 0, 0], # right\n",
    "    [0, 1, 0]  # wrong\n",
    "])\n",
    "\n",
    "# NOTE: accuracy expects indices of correct answer for target\n",
    "accuracy(preds, actuals.argmax(dim=1))  # should be 0.333"
   ]
  },
  {
   "cell_type": "markdown",
   "id": "ec002297",
   "metadata": {},
   "source": [
    "Good!"
   ]
  },
  {
   "cell_type": "code",
   "execution_count": null,
   "id": "178e13e0",
   "metadata": {},
   "outputs": [],
   "source": []
  }
 ],
 "metadata": {
  "kernelspec": {
   "display_name": "Python 3 (ipykernel)",
   "language": "python",
   "name": "python3"
  },
  "language_info": {
   "codemirror_mode": {
    "name": "ipython",
    "version": 3
   },
   "file_extension": ".py",
   "mimetype": "text/x-python",
   "name": "python",
   "nbconvert_exporter": "python",
   "pygments_lexer": "ipython3",
   "version": "3.12.10"
  },
  "toc": {
   "base_numbering": 1,
   "nav_menu": {},
   "number_sections": true,
   "sideBar": true,
   "skip_h1_title": false,
   "title_cell": "Table of Contents",
   "title_sidebar": "Contents",
   "toc_cell": false,
   "toc_position": {},
   "toc_section_display": true,
   "toc_window_display": false
  }
 },
 "nbformat": 4,
 "nbformat_minor": 5
}
